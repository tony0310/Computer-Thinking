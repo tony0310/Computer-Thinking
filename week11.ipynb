{
  "nbformat": 4,
  "nbformat_minor": 0,
  "metadata": {
    "colab": {
      "name": "week11.ipynb",
      "provenance": [],
      "authorship_tag": "ABX9TyOzX3cMwRxA5/9cHwq4DYFT",
      "include_colab_link": true
    },
    "kernelspec": {
      "name": "python3",
      "display_name": "Python 3"
    }
  },
  "cells": [
    {
      "cell_type": "markdown",
      "metadata": {
        "id": "view-in-github",
        "colab_type": "text"
      },
      "source": [
        "<a href=\"https://colab.research.google.com/github/tony0310/Computer-Thinking/blob/master/week11.ipynb\" target=\"_parent\"><img src=\"https://colab.research.google.com/assets/colab-badge.svg\" alt=\"Open In Colab\"/></a>"
      ]
    },
    {
      "cell_type": "code",
      "metadata": {
        "id": "8dQfQsFBhWz7"
      },
      "source": [
        ""
      ],
      "execution_count": null,
      "outputs": []
    },
    {
      "cell_type": "markdown",
      "metadata": {
        "id": "AQ7LRSPnnmLK"
      },
      "source": [
        "習題解答:報告分組"
      ]
    },
    {
      "cell_type": "code",
      "metadata": {
        "colab": {
          "base_uri": "https://localhost:8080/"
        },
        "id": "4NL9ey_3n9y8",
        "outputId": "ba1ad3a7-0e5b-4cfb-a6cd-8eb5587a1c77"
      },
      "source": [
        "# 方法(一):商數\n",
        "## Input\n",
        "number = input(\"Enter your seat number?\" )\n",
        "number = int(number)\n",
        "## Process\n",
        "group = (number - 1) // 5\n",
        "## output\n",
        "print(\"Group is\", group)"
      ],
      "execution_count": 7,
      "outputs": [
        {
          "output_type": "stream",
          "text": [
            "Enter your seat number?19\n",
            "Group is 3\n"
          ],
          "name": "stdout"
        }
      ]
    },
    {
      "cell_type": "code",
      "metadata": {
        "colab": {
          "base_uri": "https://localhost:8080/"
        },
        "id": "uVPpsbRDsw2d",
        "outputId": "8ea79db6-6cf8-4333-89be-62ae7198683a"
      },
      "source": [
        "number = input(\"Enter your seat number?\")\n",
        "number = int(number)\n",
        "group = (number - 1) // 5+1\n",
        "print (\"group is\", group3)"
      ],
      "execution_count": 9,
      "outputs": [
        {
          "output_type": "stream",
          "text": [
            "Enter your seat number?19\n",
            "group is 4\n"
          ],
          "name": "stdout"
        }
      ]
    }
  ]
}